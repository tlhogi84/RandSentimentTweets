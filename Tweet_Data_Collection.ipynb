{
 "cells": [
  {
   "cell_type": "code",
   "execution_count": null,
   "id": "fb8196c1-0b35-4ea5-8ce4-513125580b8f",
   "metadata": {},
   "outputs": [],
   "source": [
    "#References:\n",
    "\n",
    "#https://datasciencedojo.com/blog/scrape-twitter-data-using-snscrape/\n",
    "#https://thetechrobo.ca/snscrape-docs/_autosummary/snscrape.modules.twitter.html\n",
    "\n",
    "#Note1: Snscrape may no longer work due to changes in access to Twitter's data in June of 2023.\n",
    "#Note2: I do not encourage anyone to scrape Twitter for any commercial purpose. "
   ]
  },
  {
   "cell_type": "code",
   "execution_count": 32,
   "id": "3837a309-c00b-40a2-b126-42e15060126d",
   "metadata": {},
   "outputs": [],
   "source": [
    "import pandas as pd \n",
    "import numpy as np \n",
    "import snscrape.modules.twitter as sntwitter \n",
    "import datetime \n",
    "from tqdm.notebook import tqdm_notebook \n",
    "import seaborn as sns \n",
    "import matplotlib.pyplot as plt \n",
    "\n",
    "sns.set_theme(style=\"whitegrid\") "
   ]
  },
  {
   "cell_type": "code",
   "execution_count": 11,
   "id": "351590c6-79a9-4d99-aa9a-b9dd0c58a6c2",
   "metadata": {},
   "outputs": [],
   "source": [
    "# Text: The query to be matched. (Optional) \n",
    "# Username: Specific username from twitter account. (Required) \n",
    "# Since: Start Date in this format yyyy-mm-dd. (Optional) \n",
    "# Until: End Date in this format yyyy-mm-dd. (Optional) \n",
    "# Count: Max number of tweets to retrieve. (Required) \n",
    "# Retweet: Include or Exclude Retweets. (Required) \n",
    "# Replies: Include or Exclude Replies. (Required) "
   ]
  },
  {
   "cell_type": "code",
   "execution_count": 33,
   "id": "fe77b62e-5fed-447b-b092-45ba579cd298",
   "metadata": {},
   "outputs": [
    {
     "name": "stdin",
     "output_type": "stream",
     "text": [
      "Enter specific username(s) from a twitter account without @ (or leave it blank by pressing enter):  \n",
      "Enter startdate in this format yyyy-mm-dd (or leave it blank by pressing enter):  1998-01-01\n",
      "Enter enddate in this format yyyy-mm-dd (or leave it blank by pressing enter):  2008-07-31\n",
      "Enter max number of tweets or enter -1 to retrieve all possible tweets:  -1\n",
      "Exclude Retweets? (y/n):  y\n",
      "Exclude Replies? (y/n):  y\n"
     ]
    },
    {
     "name": "stdout",
     "output_type": "stream",
     "text": [
      "Username(s)        :  \n",
      "StartDate          :  1998-01-01\n",
      "EndDate            :  2008-07-31\n",
      "MaxTweets          :  -1\n",
      "Exclude Retweets?  :  y\n",
      "Exclude Replies?   :  y\n"
     ]
    }
   ],
   "source": [
    "username = input('Enter specific username(s) from a twitter account without @ (or leave it blank by pressing enter): ') \n",
    "since = input('Enter startdate in this format yyyy-mm-dd (or leave it blank by pressing enter): ') \n",
    "until = input('Enter enddate in this format yyyy-mm-dd (or leave it blank by pressing enter): ') \n",
    "count = int(input('Enter max number of tweets or enter -1 to retrieve all possible tweets: ')) \n",
    "retweet = input('Exclude Retweets? (y/n): ') \n",
    "replies = input('Exclude Replies? (y/n): ') \n",
    "\n",
    "print(\"Username(s)        : \", username)\n",
    "print(\"StartDate          : \", since)\n",
    "print(\"EndDate            : \", until)\n",
    "print(\"MaxTweets          : \", count)\n",
    "print(\"Exclude Retweets?  : \", retweet)\n",
    "print(\"Exclude Replies?   : \", replies)"
   ]
  },
  {
   "cell_type": "code",
   "execution_count": 34,
   "id": "92a53216-d4db-43d1-ae30-163a326d0834",
   "metadata": {},
   "outputs": [],
   "source": [
    "def search(text,username,since,until,retweet,replies): \n",
    "    global filename \n",
    "    q = text \n",
    "    if username!='': \n",
    "        q += f\" from:{username}\"\n",
    "    if until=='': \n",
    "        until = datetime.datetime.strftime(datetime.date.today(), '%Y-%m-%d') \n",
    "    q += f\" until:{until}\" \n",
    "    if since=='': \n",
    "        since = datetime.datetime.strftime(datetime.datetime.strptime(until, '%Y-%m-%d') -  datetime.timedelta(days=3650), '%Y-%m-%d') \n",
    "    q += f\" since:{since}\" \n",
    "    if retweet == 'y': \n",
    "        q += f\" exclude:retweets\"\n",
    "    if replies == 'y': \n",
    "        q += f\" exclude:replies\"\n",
    "    return q "
   ]
  },
  {
   "cell_type": "code",
   "execution_count": 35,
   "id": "ddde4cd0-c8fb-4193-92e1-e164500cab5a",
   "metadata": {
    "collapsed": true,
    "jupyter": {
     "outputs_hidden": true
    },
    "tags": []
   },
   "outputs": [
    {
     "name": "stdout",
     "output_type": "stream",
     "text": [
      "South Africa (USDZAR OR (Rand AND Currency) OR (Exchange AND Rate)) until:2008-07-31 since:1998-01-01 exclude:retweets exclude:replies\n"
     ]
    },
    {
     "data": {
      "application/vnd.jupyter.widget-view+json": {
       "model_id": "dbb53735d40b41cc9195fe83fbad2e91",
       "version_major": 2,
       "version_minor": 0
      },
      "text/plain": [
       "0it [00:00, ?it/s]"
      ]
     },
     "metadata": {},
     "output_type": "display_data"
    },
    {
     "name": "stderr",
     "output_type": "stream",
     "text": [
      "Stopping after 100 empty pages\n"
     ]
    },
    {
     "name": "stdout",
     "output_type": "stream",
     "text": [
      "Duration: 0:00:37.767160\n"
     ]
    }
   ],
   "source": [
    "#Calling the Search Function and creating Dataframe\n",
    "\n",
    "text = \"\"\"South Africa (USDZAR OR (Rand AND Currency) OR (Exchange AND Rate))\"\"\"\n",
    "\n",
    "q = search(text,username,since,until,retweet,replies) \n",
    "print(q)\n",
    "\n",
    "# Creating list to append tweet data  \n",
    "tweets_list1 = [] \n",
    "\n",
    "from datetime import datetime\n",
    "start_time = datetime.now()\n",
    "\n",
    "# Using TwitterSearchScraper to scrape data and append tweets to list \n",
    "if count == -1: \n",
    "    for i,tweet in enumerate(tqdm_notebook(sntwitter.TwitterSearchScraper(q, maxEmptyPages=100).get_items())): \n",
    "        tweets_list1.append([tweet.date, tweet.id, tweet.rawContent, tweet.user.username,tweet.lang,\n",
    "                             tweet.replyCount,tweet.retweetCount, tweet.likeCount,tweet.quoteCount]) \n",
    "\n",
    "else: \n",
    "    with tqdm_notebook(total=count) as pbar: \n",
    "        for i,tweet in enumerate(sntwitter.TwitterSearchScraper(q, maxEmptyPages=100).get_items()): #declare a username  \n",
    "            if i>=count: #number of tweets you want to scrape \n",
    "                break \n",
    "            tweets_list1.append([tweet.date, tweet.id, tweet.rawContent, tweet.user.username,tweet.lang,tweet.replyCount, \n",
    "                                    tweet.retweetCount,tweet.likeCount,tweet.quoteCount]) \n",
    "            pbar.update(1) \n",
    "\n",
    "# Creating a dataframe from the tweets list above  \n",
    "tweets_df1 = pd.DataFrame(tweets_list1, columns=['DateTime', 'TweetId', 'Text', 'Username','Language', \n",
    "                                                 'ReplyCount','RetweetCount','LikeCount','QuoteCount']) \n",
    "\n",
    "end_time = datetime.now()\n",
    "print('Duration: {}'.format(end_time - start_time))"
   ]
  },
  {
   "cell_type": "code",
   "execution_count": 19,
   "id": "e7d3ad4d-ce2a-4227-b21a-2567cfd3ff00",
   "metadata": {
    "collapsed": true,
    "jupyter": {
     "outputs_hidden": true
    },
    "tags": []
   },
   "outputs": [
    {
     "data": {
      "text/html": [
       "<div>\n",
       "<style scoped>\n",
       "    .dataframe tbody tr th:only-of-type {\n",
       "        vertical-align: middle;\n",
       "    }\n",
       "\n",
       "    .dataframe tbody tr th {\n",
       "        vertical-align: top;\n",
       "    }\n",
       "\n",
       "    .dataframe thead th {\n",
       "        text-align: right;\n",
       "    }\n",
       "</style>\n",
       "<table border=\"1\" class=\"dataframe\">\n",
       "  <thead>\n",
       "    <tr style=\"text-align: right;\">\n",
       "      <th></th>\n",
       "      <th>DateTime</th>\n",
       "      <th>TweetId</th>\n",
       "      <th>Text</th>\n",
       "      <th>Username</th>\n",
       "      <th>Language</th>\n",
       "      <th>ReplyCount</th>\n",
       "      <th>RetweetCount</th>\n",
       "      <th>LikeCount</th>\n",
       "      <th>QuoteCount</th>\n",
       "    </tr>\n",
       "  </thead>\n",
       "  <tbody>\n",
       "    <tr>\n",
       "      <th>0</th>\n",
       "      <td>2023-06-27 20:46:16+00:00</td>\n",
       "      <td>1673794902180724736</td>\n",
       "      <td>Pounds weakens vs Naira, see today's Dollar, E...</td>\n",
       "      <td>Nigeriansong1</td>\n",
       "      <td>pt</td>\n",
       "      <td>0</td>\n",
       "      <td>1</td>\n",
       "      <td>0</td>\n",
       "      <td>0</td>\n",
       "    </tr>\n",
       "    <tr>\n",
       "      <th>1</th>\n",
       "      <td>2023-06-27 03:30:57+00:00</td>\n",
       "      <td>1673534355342229505</td>\n",
       "      <td>See the Dollar to Naira exchange rate after Po...</td>\n",
       "      <td>Nigeriansong1</td>\n",
       "      <td>en</td>\n",
       "      <td>0</td>\n",
       "      <td>1</td>\n",
       "      <td>0</td>\n",
       "      <td>0</td>\n",
       "    </tr>\n",
       "    <tr>\n",
       "      <th>2</th>\n",
       "      <td>2023-06-24 06:29:22+00:00</td>\n",
       "      <td>1672492091807547397</td>\n",
       "      <td>Check out today's Dollar to Naira exchange rat...</td>\n",
       "      <td>Nigeriansong1</td>\n",
       "      <td>pt</td>\n",
       "      <td>0</td>\n",
       "      <td>0</td>\n",
       "      <td>1</td>\n",
       "      <td>0</td>\n",
       "    </tr>\n",
       "    <tr>\n",
       "      <th>3</th>\n",
       "      <td>2023-06-23 11:12:28+00:00</td>\n",
       "      <td>1672200948221976576</td>\n",
       "      <td>Check out today's Dollar to Naira exchange rat...</td>\n",
       "      <td>Nigeriansong1</td>\n",
       "      <td>pt</td>\n",
       "      <td>0</td>\n",
       "      <td>1</td>\n",
       "      <td>0</td>\n",
       "      <td>0</td>\n",
       "    </tr>\n",
       "    <tr>\n",
       "      <th>4</th>\n",
       "      <td>2023-06-23 11:05:05+00:00</td>\n",
       "      <td>1672199090250055685</td>\n",
       "      <td>Check out today's Dollar to Naira exchange rat...</td>\n",
       "      <td>Nigeriansong1</td>\n",
       "      <td>en</td>\n",
       "      <td>0</td>\n",
       "      <td>1</td>\n",
       "      <td>1</td>\n",
       "      <td>0</td>\n",
       "    </tr>\n",
       "    <tr>\n",
       "      <th>...</th>\n",
       "      <td>...</td>\n",
       "      <td>...</td>\n",
       "      <td>...</td>\n",
       "      <td>...</td>\n",
       "      <td>...</td>\n",
       "      <td>...</td>\n",
       "      <td>...</td>\n",
       "      <td>...</td>\n",
       "      <td>...</td>\n",
       "    </tr>\n",
       "    <tr>\n",
       "      <th>8538</th>\n",
       "      <td>2009-02-25 13:08:04+00:00</td>\n",
       "      <td>1249070957</td>\n",
       "      <td>South Africa's inflation figures are just out ...</td>\n",
       "      <td>daveharcourt</td>\n",
       "      <td>en</td>\n",
       "      <td>0</td>\n",
       "      <td>0</td>\n",
       "      <td>0</td>\n",
       "      <td>0</td>\n",
       "    </tr>\n",
       "    <tr>\n",
       "      <th>8539</th>\n",
       "      <td>2009-01-12 04:19:18+00:00</td>\n",
       "      <td>1112375857</td>\n",
       "      <td>Buying tickets in South Africa: Due to the ZAR...</td>\n",
       "      <td>mfeed</td>\n",
       "      <td>en</td>\n",
       "      <td>0</td>\n",
       "      <td>0</td>\n",
       "      <td>0</td>\n",
       "      <td>0</td>\n",
       "    </tr>\n",
       "    <tr>\n",
       "      <th>8540</th>\n",
       "      <td>2009-01-07 05:44:45+00:00</td>\n",
       "      <td>1101270778</td>\n",
       "      <td>JSE Securities Exchange South Africa Goes Live...</td>\n",
       "      <td>FSOkx</td>\n",
       "      <td>en</td>\n",
       "      <td>0</td>\n",
       "      <td>0</td>\n",
       "      <td>0</td>\n",
       "      <td>0</td>\n",
       "    </tr>\n",
       "    <tr>\n",
       "      <th>8541</th>\n",
       "      <td>2008-10-08 08:14:48+00:00</td>\n",
       "      <td>951012643</td>\n",
       "      <td>In South Africa/Namibia, I have the rare privi...</td>\n",
       "      <td>CarrieCizauskas</td>\n",
       "      <td>en</td>\n",
       "      <td>0</td>\n",
       "      <td>0</td>\n",
       "      <td>0</td>\n",
       "      <td>0</td>\n",
       "    </tr>\n",
       "    <tr>\n",
       "      <th>8542</th>\n",
       "      <td>2008-07-10 14:31:24+00:00</td>\n",
       "      <td>854677906</td>\n",
       "      <td>Followed up on a speaking inquiry for Durbin, ...</td>\n",
       "      <td>ThomasFrey</td>\n",
       "      <td>en</td>\n",
       "      <td>0</td>\n",
       "      <td>0</td>\n",
       "      <td>0</td>\n",
       "      <td>0</td>\n",
       "    </tr>\n",
       "  </tbody>\n",
       "</table>\n",
       "<p>8543 rows × 9 columns</p>\n",
       "</div>"
      ],
      "text/plain": [
       "                      DateTime              TweetId   \n",
       "0    2023-06-27 20:46:16+00:00  1673794902180724736  \\\n",
       "1    2023-06-27 03:30:57+00:00  1673534355342229505   \n",
       "2    2023-06-24 06:29:22+00:00  1672492091807547397   \n",
       "3    2023-06-23 11:12:28+00:00  1672200948221976576   \n",
       "4    2023-06-23 11:05:05+00:00  1672199090250055685   \n",
       "...                        ...                  ...   \n",
       "8538 2009-02-25 13:08:04+00:00           1249070957   \n",
       "8539 2009-01-12 04:19:18+00:00           1112375857   \n",
       "8540 2009-01-07 05:44:45+00:00           1101270778   \n",
       "8541 2008-10-08 08:14:48+00:00            951012643   \n",
       "8542 2008-07-10 14:31:24+00:00            854677906   \n",
       "\n",
       "                                                   Text         Username   \n",
       "0     Pounds weakens vs Naira, see today's Dollar, E...    Nigeriansong1  \\\n",
       "1     See the Dollar to Naira exchange rate after Po...    Nigeriansong1   \n",
       "2     Check out today's Dollar to Naira exchange rat...    Nigeriansong1   \n",
       "3     Check out today's Dollar to Naira exchange rat...    Nigeriansong1   \n",
       "4     Check out today's Dollar to Naira exchange rat...    Nigeriansong1   \n",
       "...                                                 ...              ...   \n",
       "8538  South Africa's inflation figures are just out ...     daveharcourt   \n",
       "8539  Buying tickets in South Africa: Due to the ZAR...            mfeed   \n",
       "8540  JSE Securities Exchange South Africa Goes Live...            FSOkx   \n",
       "8541  In South Africa/Namibia, I have the rare privi...  CarrieCizauskas   \n",
       "8542  Followed up on a speaking inquiry for Durbin, ...       ThomasFrey   \n",
       "\n",
       "     Language  ReplyCount  RetweetCount  LikeCount  QuoteCount  \n",
       "0          pt           0             1          0           0  \n",
       "1          en           0             1          0           0  \n",
       "2          pt           0             0          1           0  \n",
       "3          pt           0             1          0           0  \n",
       "4          en           0             1          1           0  \n",
       "...       ...         ...           ...        ...         ...  \n",
       "8538       en           0             0          0           0  \n",
       "8539       en           0             0          0           0  \n",
       "8540       en           0             0          0           0  \n",
       "8541       en           0             0          0           0  \n",
       "8542       en           0             0          0           0  \n",
       "\n",
       "[8543 rows x 9 columns]"
      ]
     },
     "execution_count": 19,
     "metadata": {},
     "output_type": "execute_result"
    }
   ],
   "source": [
    "tweets_df1.sort_values(by='DateTime',ascending=False) "
   ]
  },
  {
   "cell_type": "code",
   "execution_count": 20,
   "id": "84ba8c82-77ff-4f93-9fde-7d6f7bb02ddc",
   "metadata": {
    "collapsed": true,
    "jupyter": {
     "outputs_hidden": true
    },
    "tags": []
   },
   "outputs": [
    {
     "name": "stdout",
     "output_type": "stream",
     "text": [
      "<class 'pandas.core.frame.DataFrame'>\n",
      "RangeIndex: 8543 entries, 0 to 8542\n",
      "Data columns (total 9 columns):\n",
      " #   Column        Non-Null Count  Dtype              \n",
      "---  ------        --------------  -----              \n",
      " 0   DateTime      8543 non-null   datetime64[ns, UTC]\n",
      " 1   TweetId       8543 non-null   int64              \n",
      " 2   Text          8543 non-null   object             \n",
      " 3   Username      8543 non-null   object             \n",
      " 4   Language      8543 non-null   object             \n",
      " 5   ReplyCount    8543 non-null   int64              \n",
      " 6   RetweetCount  8543 non-null   int64              \n",
      " 7   LikeCount     8543 non-null   int64              \n",
      " 8   QuoteCount    8543 non-null   int64              \n",
      "dtypes: datetime64[ns, UTC](1), int64(5), object(3)\n",
      "memory usage: 600.8+ KB\n"
     ]
    }
   ],
   "source": [
    "#Data Processing\n",
    "tweets_df1.info() "
   ]
  },
  {
   "cell_type": "code",
   "execution_count": 21,
   "id": "96dab502-dea8-4b28-bcb0-e659f8e6d58a",
   "metadata": {},
   "outputs": [],
   "source": [
    "#Data Transformation\n",
    "tweets_df1['Hour']       = tweets_df1['DateTime'].dt.hour \n",
    "tweets_df1['Year']       = tweets_df1['DateTime'].dt.year\n",
    "tweets_df1['Month']      = tweets_df1['DateTime'].dt.month\n",
    "tweets_df1['MonthName']  = tweets_df1['DateTime'].dt.month_name()\n",
    "tweets_df1['MonthDay']   = tweets_df1['DateTime'].dt.day\n",
    "tweets_df1['DayName']    = tweets_df1['DateTime'].dt.day_name()\n",
    "tweets_df1['Week']       = tweets_df1['DateTime'].dt.isocalendar().week"
   ]
  },
  {
   "cell_type": "code",
   "execution_count": 22,
   "id": "6bf1f6c8-f50a-4fa6-8b54-dc54e25b05db",
   "metadata": {},
   "outputs": [],
   "source": [
    "#Split date and time into separate columns\n",
    "tweets_df1['Date'] = [d.date() for d in tweets_df1['DateTime']] \n",
    "tweets_df1['Time'] = [d.time() for d in tweets_df1['DateTime']] "
   ]
  },
  {
   "cell_type": "code",
   "execution_count": 23,
   "id": "c814af8d-5ddc-41c3-8d67-18b78ffc98a5",
   "metadata": {},
   "outputs": [],
   "source": [
    "#save to csv\n",
    "tweets_df1.to_csv(f\"Tweet_Data.csv\",index=False)"
   ]
  }
 ],
 "metadata": {
  "kernelspec": {
   "display_name": "Python 3 (ipykernel)",
   "language": "python",
   "name": "python3"
  },
  "language_info": {
   "codemirror_mode": {
    "name": "ipython",
    "version": 3
   },
   "file_extension": ".py",
   "mimetype": "text/x-python",
   "name": "python",
   "nbconvert_exporter": "python",
   "pygments_lexer": "ipython3",
   "version": "3.8.8"
  }
 },
 "nbformat": 4,
 "nbformat_minor": 5
}
