{
 "cells": [
  {
   "cell_type": "code",
   "execution_count": null,
   "id": "feacd6d7-2e23-4442-a115-92cf2229f2c5",
   "metadata": {},
   "outputs": [],
   "source": [
    "#Reference:\n",
    "#https://huggingface.co/docs/transformers/preprocessing\n",
    "\n",
    "from transformers import BertTokenizer, BertForSequenceClassification\n",
    "from transformers import pipeline\n",
    "from transformers import AutoTokenizer\n",
    "from transformers import AutoModelForSequenceClassification\n",
    "\n",
    "import pandas as pd\n",
    "import numpy as np\n",
    "import torch\n",
    "import datetime"
   ]
  },
  {
   "cell_type": "code",
   "execution_count": 3,
   "id": "1b75e1c2-ed6b-49ac-a407-98df549b5440",
   "metadata": {},
   "outputs": [
    {
     "data": {
      "text/html": [
       "<div>\n",
       "<style scoped>\n",
       "    .dataframe tbody tr th:only-of-type {\n",
       "        vertical-align: middle;\n",
       "    }\n",
       "\n",
       "    .dataframe tbody tr th {\n",
       "        vertical-align: top;\n",
       "    }\n",
       "\n",
       "    .dataframe thead th {\n",
       "        text-align: right;\n",
       "    }\n",
       "</style>\n",
       "<table border=\"1\" class=\"dataframe\">\n",
       "  <thead>\n",
       "    <tr style=\"text-align: right;\">\n",
       "      <th></th>\n",
       "      <th>DateTime</th>\n",
       "      <th>TweetId</th>\n",
       "      <th>Text</th>\n",
       "      <th>Language</th>\n",
       "    </tr>\n",
       "  </thead>\n",
       "  <tbody>\n",
       "    <tr>\n",
       "      <th>0</th>\n",
       "      <td>2023-06-21 08:04:41+00:00</td>\n",
       "      <td>1.670000e+18</td>\n",
       "      <td>Finally, a positive for South Africa as Inflat...</td>\n",
       "      <td>en</td>\n",
       "    </tr>\n",
       "    <tr>\n",
       "      <th>1</th>\n",
       "      <td>2023-06-19 10:11:17+00:00</td>\n",
       "      <td>1.670000e+18</td>\n",
       "      <td>USD/ZAR: Rand will remain fragile on geopoliti...</td>\n",
       "      <td>en</td>\n",
       "    </tr>\n",
       "    <tr>\n",
       "      <th>2</th>\n",
       "      <td>2023-06-16 21:12:51+00:00</td>\n",
       "      <td>1.670000e+18</td>\n",
       "      <td>South Africa's risk is real - influential Amer...</td>\n",
       "      <td>en</td>\n",
       "    </tr>\n",
       "    <tr>\n",
       "      <th>3</th>\n",
       "      <td>2023-06-16 18:12:57+00:00</td>\n",
       "      <td>1.670000e+18</td>\n",
       "      <td>Factors that are helping mitigate against Sout...</td>\n",
       "      <td>en</td>\n",
       "    </tr>\n",
       "    <tr>\n",
       "      <th>4</th>\n",
       "      <td>2023-06-16 09:01:58+00:00</td>\n",
       "      <td>1.670000e+18</td>\n",
       "      <td>Probably am too critical of Zanu pf government...</td>\n",
       "      <td>en</td>\n",
       "    </tr>\n",
       "  </tbody>\n",
       "</table>\n",
       "</div>"
      ],
      "text/plain": [
       "                    DateTime       TweetId   \n",
       "0  2023-06-21 08:04:41+00:00  1.670000e+18  \\\n",
       "1  2023-06-19 10:11:17+00:00  1.670000e+18   \n",
       "2  2023-06-16 21:12:51+00:00  1.670000e+18   \n",
       "3  2023-06-16 18:12:57+00:00  1.670000e+18   \n",
       "4  2023-06-16 09:01:58+00:00  1.670000e+18   \n",
       "\n",
       "                                                Text Language  \n",
       "0  Finally, a positive for South Africa as Inflat...       en  \n",
       "1  USD/ZAR: Rand will remain fragile on geopoliti...       en  \n",
       "2  South Africa's risk is real - influential Amer...       en  \n",
       "3  Factors that are helping mitigate against Sout...       en  \n",
       "4  Probably am too critical of Zanu pf government...       en  "
      ]
     },
     "execution_count": 3,
     "metadata": {},
     "output_type": "execute_result"
    }
   ],
   "source": [
    "filepath = r\"C:\\Users\\Tlhogi\\Documents\\Grace\\Employers\\Upwork\\20230625_Twitter Sentiment Indicator\"\n",
    "filename = \"\\InputData_FinBERT.csv\"\n",
    "fullpath = filepath + filename\n",
    "\n",
    "df = pd.read_csv(fullpath)\n",
    "df.head()"
   ]
  },
  {
   "cell_type": "code",
   "execution_count": 3,
   "id": "bb463bd2-0f6e-4700-b181-d7d7e46797ff",
   "metadata": {
    "collapsed": true,
    "jupyter": {
     "outputs_hidden": true
    },
    "tags": []
   },
   "outputs": [
    {
     "name": "stdout",
     "output_type": "stream",
     "text": [
      "['Finally, a positive for South Africa as Inflation comes in better than expected. A pause from SARB? @DailyFXTeam @DailyFX\\n#SouthAfrica #Mzansi #USDZAR #SouthAfricanRand #inflation #interestrates', 'USD/ZAR: Rand will remain fragile on geopolitics – ING https://t.co/18lKmAQ2zq #USDZAR #SouthAfrica #Banks', \"South Africa's risk is real\\xa0- influential American\\xa0senators are pushing for RSA to be dropped from AGOA.\\nFor now, some people appear to believe the rapprochement may work — the rand is the best performing currency in the world this month.  #NextAfrica @BloombergAfrica https://t.co/6wcrQm2Bgu\", 'Factors that are helping mitigate against South Africa defaulting on its debt are;\\n\\n1) debt service costs are subtracted from budget before allocating revenue, and\\n\\n2) significant portion (+-90%) of SA debt is Rand-denominated (Currency issuers have a \"zero default risk\").', \"Probably am too critical of Zanu pf government but if I may ask other than ZIMBABWE is there any country in the Sadc region that doesn't sell fuel in their local currency?\\n\\nIn South Africa do service stations accept rand or not or it's strictly USD ?\", \"We will offer the Rand as legal currency in all countries in Africa.\\nWe will make South Africa the economic center of Africa\\nEast London will be Africa's super city https://t.co/Ygx5f4uvsW\", \"South Africa does not need to call for it because it trades using it's own currency power,  well except that Orania has its own currency which I wonder how it got to be equal to the Rand when they don't have their own stock exchange. Something is off here!🤷\\u200d♂️\", \"While the rand has depreciated a lot over recent decades, South Africa's real effective exchange rate (i.e. weighted across trading partners) has been much more stable. This is because our inflation has been higher than in our trading partners. https://t.co/chhR5Vm9Eu https://t.co/n8LKsv6ZKU\", 'I really pray that US and UK sanctions South Africa 🇿🇦, it will be a blessing in disguise. We can nationalize banks,mines and JSE. Close down any US/UK companies and their embassies. Go fill brics currency and trade in rand. Fuel will be R5 rands i tell you. @ANCParliament', 'There’s no way BoN was going to deviate from SARB monetary policy. We were already 100 basis behind South Africa. The common monetary policy and the peg arrangement is an enabler and a barrier. The rand is both a stabilizing force and a colonial currency that is holding us back.']\n"
     ]
    }
   ],
   "source": [
    "df_array = np.array(df)\n",
    "df_list = list(df_array[:,2]) \n",
    "print(df_list[:10])"
   ]
  },
  {
   "cell_type": "code",
   "execution_count": 10,
   "id": "689fa66e-5caa-4a55-a523-b7a252d0bcb9",
   "metadata": {},
   "outputs": [],
   "source": [
    "#Reference:\n",
    "#https://towardsdatascience.com/does-bert-need-clean-data-part-2-classification-d29adf9f745a\n",
    "\n",
    "#Cleaning the data to prepare for FinBERT\n",
    "#Light text cleaning is employed as advised in article\n",
    "\n",
    "import re\n",
    "def text_clean(x):\n",
    "    # lowercase everything\n",
    "    x = x.lower() \n",
    "    \n",
    "    # remove unicode characters\n",
    "    x = x.encode('ascii', 'ignore').decode()\n",
    "    \n",
    "    # remove links\n",
    "    x = re.sub(r'https*\\S+', ' ', x) \n",
    "    x = re.sub(r'http*\\S+', ' ', x)\n",
    "    \n",
    "    # cleaning up text\n",
    "    x = re.sub(r'\\'\\w+', '', x) \n",
    "    x = re.sub(r'\\w*\\d+\\w*', '', x)\n",
    "    x = re.sub(r'\\s{2,}', ' ', x)\n",
    "    x = re.sub(r'\\s[^\\w\\s]\\s', '', x)\n",
    "    \n",
    "    return x"
   ]
  },
  {
   "cell_type": "code",
   "execution_count": 13,
   "id": "688f76a8-1202-48ec-b27d-29498b0aa555",
   "metadata": {},
   "outputs": [
    {
     "name": "stdout",
     "output_type": "stream",
     "text": [
      "7252\n",
      "['finally, a positive for south africa as inflation comes in better than expected. a pause from sarb? @dailyfxteam @dailyfx\\n#southafrica #mzansi #usdzar #southafricanrand #inflation #interestrates', 'usd/zar: rand will remain fragile on geopolitics ing #usdzar #southafrica #banks', 'south africa risk is real- influential americansenators are pushing for rsa to be dropped from agoa.\\nfor now, some people appear to believe the rapprochement may work the rand is the best performing currency in the world this month. #nextafrica @bloombergafrica ', 'factors that are helping mitigate against south africa defaulting on its debt are;debt service costs are subtracted from budget before allocating revenue, andsignificant portion (+-%) of sa debt is rand-denominated (currency issuers have a \"zero default risk\").', 'probably am too critical of zanu pf government but if i may ask other than zimbabwe is there any country in the sadc region that doesn sell fuel in their local currency? in south africa do service stations accept rand or not or it strictly usd ?', 'we will offer the rand as legal currency in all countries in africa.\\nwe will make south africa the economic center of africa\\neast london will be africa super city ', 'south africa does not need to call for it because it trades using it own currency power, well except that orania has its own currency which i wonder how it got to be equal to the rand when they don have their own stock exchange. something is off here!', 'while the rand has depreciated a lot over recent decades, south africa real effective exchange rate (i.e. weighted across trading partners) has been much more stable. this is because our inflation has been higher than in our trading partners. ', 'i really pray that us and uk sanctions south africait will be a blessing in disguise. we can nationalize banks,mines and jse. close down any us/uk companies and their embassies. go fill brics currency and trade in rand. fuel will be rands i tell you. @ancparliament', 'theres no way bon was going to deviate from sarb monetary policy. we were already basis behind south africa. the common monetary policy and the peg arrangement is an enabler and a barrier. the rand is both a stabilizing force and a colonial currency that is holding us back.']\n"
     ]
    }
   ],
   "source": [
    "#train_df['cleaned_text'] = train_df.text.apply(text_clean)\n",
    "\n",
    "clean_list =[]\n",
    "for i in df_list:\n",
    "    x = text_clean(i)\n",
    "    clean_list.append(x)\n",
    "\n",
    "print(len(clean_list))\n",
    "print(clean_list[:10])"
   ]
  },
  {
   "cell_type": "code",
   "execution_count": 14,
   "id": "94675062-2ece-4e5f-82f6-63edd2cbb44e",
   "metadata": {},
   "outputs": [
    {
     "name": "stdout",
     "output_type": "stream",
     "text": [
      "Completed  500 items in  Duration: 0:02:07.196275\n",
      "Completed  1000 items in  Duration: 0:04:16.642679\n",
      "Completed  1500 items in  Duration: 0:06:12.565309\n",
      "Completed  2000 items in  Duration: 0:08:08.208924\n",
      "Completed  2500 items in  Duration: 0:09:54.452000\n",
      "Completed  3000 items in  Duration: 0:11:12.872486\n",
      "Completed  3500 items in  Duration: 0:12:32.822059\n",
      "Completed  4000 items in  Duration: 0:13:55.791804\n",
      "Completed  4500 items in  Duration: 0:15:19.357584\n",
      "Completed  5000 items in  Duration: 0:16:45.163492\n",
      "Completed  5500 items in  Duration: 0:18:11.340421\n",
      "Completed  6000 items in  Duration: 0:19:32.956089\n",
      "Completed  6500 items in  Duration: 0:21:02.363203\n",
      "Completed  7000 items in  Duration: 0:22:26.936040\n",
      "-------------------------------------------------------------------------------------\n",
      "-------------------------------------------------------------------------------------\n",
      "-------------------------------------------------------------------------------------\n",
      "                                                  Tweet  Positive  Negative   \n",
      "0     followed up on a speaking inquiry for durbin, ...  0.089089  0.051954  \\\n",
      "1     jse securities exchange south africa goes live...  0.048459  0.018552   \n",
      "2     buying tickets in south africa: due to the zar...  0.152280  0.019797   \n",
      "3     south africa inflation figures are just outfoo...  0.109505  0.813431   \n",
      "4     my god -- i going to south africa; exchange ra...  0.079987  0.046782   \n",
      "...                                                 ...       ...       ...   \n",
      "7247  probably am too critical of zanu pf government...  0.031595  0.059336   \n",
      "7248  factors that are helping mitigate against sout...  0.239551  0.012087   \n",
      "7249  south africa risk is real- influential america...  0.456923  0.110567   \n",
      "7250  usd/zar: rand will remain fragile on geopoliti...  0.106259  0.325085   \n",
      "7251  finally, a positive for south africa as inflat...  0.468526  0.031714   \n",
      "\n",
      "       Neutral  \n",
      "0     0.858956  \n",
      "1     0.932989  \n",
      "2     0.827923  \n",
      "3     0.077064  \n",
      "4     0.873231  \n",
      "...        ...  \n",
      "7247  0.909069  \n",
      "7248  0.748362  \n",
      "7249  0.432510  \n",
      "7250  0.568656  \n",
      "7251  0.499761  \n",
      "\n",
      "[7252 rows x 4 columns]\n",
      "Duration: 0:23:10.418527\n"
     ]
    }
   ],
   "source": [
    "tokenizer = AutoTokenizer.from_pretrained(\"ProsusAI/finbert\")\n",
    "model = AutoModelForSequenceClassification.from_pretrained(\"ProsusAI/finbert\")\n",
    "\n",
    "df3 = pd.DataFrame(columns = [\"Tweet\", \"Positive\", \"Negative\", \"Neutral\"])\n",
    "from datetime import datetime\n",
    "start_time = datetime.now()\n",
    "count = 0\n",
    "\n",
    "for tweet in clean_list:\n",
    "    #tokenize text to be sent to model\n",
    "    encoded_input = tokenizer(tweet, padding = True, truncation = True, return_tensors='pt')\n",
    "    output = model(**encoded_input)\n",
    "    prediction = torch.nn.functional.softmax(output.logits, dim=-1)\n",
    "    model.config.id2label\n",
    "    \n",
    "    positive = prediction[:, 0].tolist()\n",
    "    negative = prediction[:, 1].tolist()\n",
    "    neutral = prediction[:, 2].tolist()\n",
    "\n",
    "    new_items = {'Tweet':tweet, \"Positive\":positive, \"Negative\":negative, \"Neutral\":neutral}      \n",
    "    df2 = pd.DataFrame(new_items, columns = [\"Tweet\", \"Positive\", \"Negative\", \"Neutral\"])\n",
    "    df3 = pd.concat([df2, df3],ignore_index=True)\n",
    "    \n",
    "    count = count+1\n",
    "    if count%500 == 0:\n",
    "        end_time = datetime.now()\n",
    "        print(\"Completed \", count, \"items in \",'Duration: {}'.format(end_time - start_time))\n",
    "\n",
    "print(\"-------------------------------------------------------------------------------------\")\n",
    "print(\"-------------------------------------------------------------------------------------\")\n",
    "print(\"-------------------------------------------------------------------------------------\")\n",
    "\n",
    "print(df3)\n",
    "\n",
    "end_time = datetime.now()\n",
    "print('Duration: {}'.format(end_time - start_time))"
   ]
  },
  {
   "cell_type": "code",
   "execution_count": 15,
   "id": "099dbf23-f2d9-42c4-91c2-a33b4942737b",
   "metadata": {},
   "outputs": [],
   "source": [
    "df3.to_csv(f\"FinBert_Results.csv\",index=False)"
   ]
  }
 ],
 "metadata": {
  "kernelspec": {
   "display_name": "Python 3 (ipykernel)",
   "language": "python",
   "name": "python3"
  },
  "language_info": {
   "codemirror_mode": {
    "name": "ipython",
    "version": 3
   },
   "file_extension": ".py",
   "mimetype": "text/x-python",
   "name": "python",
   "nbconvert_exporter": "python",
   "pygments_lexer": "ipython3",
   "version": "3.8.8"
  }
 },
 "nbformat": 4,
 "nbformat_minor": 5
}
